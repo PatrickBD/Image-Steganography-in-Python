{
 "cells": [
  {
   "cell_type": "markdown",
   "metadata": {
    "_uuid": "bac4ea43618bd0581be5916b34d3c0562955b1d5"
   },
   "source": [
    "# Steganography: Hiding Star Wars in Images\n",
    "\n",
    "Steganography is the practice of concealing a file, message, image, or video within another file, message, image, or video. Whereas cryptography is the practice of protecting the contents of a message alone, steganography is concerned with concealing the fact that a secret message is being sent as well as concealing the contents of the message. (https://en.wikipedia.org/wiki/Steganography) This notebook will use least significant bit steganography to hide 100s of KB to several MB of data in an image without perceptibly changing the image. This notebook completes 3 tasks using this method:\n",
    "\n",
    "**Part 1: Encode all 3 of the original Star Wars scripts into an image of the Death Star.**\n",
    "\n",
    "**Part 2: Encode an image of R2D2 with an image of the Death Star Plans.**\n",
    "\n",
    "**Part 3: Encode a series of encoded images within encoded images and end with the script for A New Hope (Death Star => X-Wing => R2D2 => Death Star Plans => New Hope Script).**\n",
    "\n",
    "\n",
    "This is my attempt to duplicate the method without looking up tutorials or code samples on least significant bit steganography. My only knowledge going into this is a basic description of the method. \n",
    "\n",
    "# Least Significant Bit Image Steganography Explained\n",
    "\n",
    "Here is a quick rundown of how this works. Each pixel in a color image has a value for each of it's 3 color channel. These values are between 0 and 255 corresponding to how red, green, or blue that pixel is. These values can be converted to an 8 bit binary value (255 = 11111111, ect.). While changing the left-most bits can mean a lot of change to the value, the rightmost bits mean very little. We are going use the rightmost 2 bits for our encoding. Changing these 2 bits will change the value for that one color channel on that one pixel by *at most* 3 points but more likely less or not at all. The result is a difference in the final image that is imperceptible to the human eye. If we are willing to replace these 2 bits of the 8 bit value, we can use up to 1/4th of the image's total space for whatever else we want! If we convert our scripts to 8 bit binary as well, there is more than enough space in a single color image to replace the last 2 bits of each color channel with our scripts.\n",
    "\n",
    "(Even more bits could be used for encoding. This allows for using more of the image's total space but runs the risk of making the changes more visible. The last 2 bits is plenty for this notebook and most encodings. )\n",
    "\n",
    "\n",
    "# Imports"
   ]
  },
  {
   "cell_type": "code",
   "execution_count": null,
   "metadata": {
    "_cell_guid": "b1076dfc-b9ad-4769-8c92-a6c4dae69d19",
    "_uuid": "8f2839f25d086af736a60e9eeb907d3b93b6e0e5"
   },
   "outputs": [],
   "source": [
    "import numpy as np\n",
    "import pandas as pd\n",
    "from skimage.io import imread, imshow\n",
    "from skimage.transform import rescale\n",
    "import skimage\n",
    "import bitarray\n",
    "import matplotlib.pyplot as plt\n",
    "\n",
    "import os\n",
    "print(os.listdir(\"../input\"))\n"
   ]
  },
  {
   "cell_type": "markdown",
   "metadata": {
    "_uuid": "efb4192edfc6ab833282ef8153157f710aec479d"
   },
   "source": [
    "# Part 1: Encode the Original Star Wars Scripts into an Image"
   ]
  },
  {
   "cell_type": "markdown",
   "metadata": {
    "_uuid": "7a4362569bad4f363fb8769bd07411e1ab0c3fe6"
   },
   "source": [
    "# Clean and Combine Scripts\n",
    "\n",
    "Lets combine all three scripts into one string. Clean them up a bit so that they look pretty in this new format while we are at it."
   ]
  },
  {
   "cell_type": "code",
   "execution_count": null,
   "metadata": {
    "_cell_guid": "79c7e3d0-c299-4dcb-8224-4455121ee9b0",
    "_uuid": "d629ff2d2480ee46fbb7e2d37f6b5fab8052498a"
   },
   "outputs": [],
   "source": [
    "All_SW_Scripts = \"\"\n",
    "\n",
    "def TextToString(txt):\n",
    "    with open (txt, \"r\") as file:\n",
    "        data=file.readlines()\n",
    "        script = \"\"\n",
    "        for x in data[1:]:\n",
    "            x = x.replace('\"','').replace(\"\\n\",\" \\n \").split(' ')\n",
    "            x[1] += \":\"\n",
    "            script += \" \".join(x[1:-1]).replace(\"\\n\",\" \\n \")\n",
    "        return script\n",
    "    \n",
    "All_SW_Scripts += TextToString(\"SW_EpisodeIV.txt\")\n",
    "All_SW_Scripts += TextToString(\"SW_EpisodeV.txt\")\n",
    "All_SW_Scripts += TextToString(\"SW_EpisodeVI.txt\")\n",
    "\n",
    "print(All_SW_Scripts[:1000])"
   ]
  },
  {
   "cell_type": "markdown",
   "metadata": {
    "_uuid": "13821d665a8da7493f84d7e7451586b5c637f71a"
   },
   "source": [
    "# Get and Examane the Death Star Image\n",
    "Now we will read in and examine our first image."
   ]
  },
  {
   "cell_type": "code",
   "execution_count": null,
   "metadata": {
    "_uuid": "cd6767687c4f9469b2b22fd86cff39fd80651006"
   },
   "outputs": [],
   "source": [
    "deathstar_img = imread(\"Death-Star.jpg\")\n",
    "\n",
    "plt.figure(figsize=(10, 10))\n",
    "plt.imshow(deathstar_img)\n",
    "\n",
    "print(\"Image is \"+str(deathstar_img.shape[0])+\" by \"+str(deathstar_img.shape[1])+\" pixels with \"+str(deathstar_img.shape[2])+\" color channels\")"
   ]
  },
  {
   "cell_type": "markdown",
   "metadata": {
    "_uuid": "0c45f50938fce8f6f1564743eec46211aef474c9"
   },
   "source": [
    "# Scripts to Bits\n",
    "In order to encode our scripts into an image, we are going to need to convert the characters into bits. Let's start by making that method.\n"
   ]
  },
  {
   "cell_type": "code",
   "execution_count": null,
   "metadata": {
    "_uuid": "9aa271149937742f2171cf6127d4d2f64aaad731"
   },
   "outputs": [],
   "source": [
    "def MessageToBits(message):\n",
    "    #tag message (and pad w/ spaces till 10 characters)\n",
    "    tag = \"{:<10}\".format(str(len(message)*8))\n",
    "    message = tag+message\n",
    "    #convert to bits\n",
    "    code = bitarray.bitarray()\n",
    "    code.frombytes(message.encode('utf-8'))\n",
    "    code = \"\".join(['1' if x == True else '0' for x in code.tolist()])\n",
    "    return code"
   ]
  },
  {
   "cell_type": "markdown",
   "metadata": {
    "_uuid": "b97217b146532405f290cf70fe21370fe8b7250d"
   },
   "source": [
    "# Check File Size and Image Encoding Space\n",
    "This part is just simple math. We want to double check the size of our scripts files and how much space we can encode in our image. The script size is just going to be the length of the string in characters times 8 (or equal to the length after 8 bit converstion). We are going to use the last 2 bits for our encoding. So the bit space we have to work with in the image will be equal to height x width x color channels x 2 bits. Lets make a method that compares these two values and returns True or False if there is enough space. Printing the results in KB by dividing by 8000 for easy reading."
   ]
  },
  {
   "cell_type": "code",
   "execution_count": null,
   "metadata": {
    "_uuid": "0fbff4627acb941f9fbd97037dbd2e8dad41aeba"
   },
   "outputs": [],
   "source": [
    "\n",
    "def CheckBitSize(img, message):\n",
    "    h = img.shape[0]\n",
    "    w = img.shape[1]\n",
    "    try:\n",
    "        c = img.shape[2]\n",
    "    except:\n",
    "        c = 1\n",
    "    image_max_size = h*w*c*2\n",
    "    string_size = len(message)\n",
    "    print(\"Message is \"+str(string_size/8000)+\" KB and image can fit \"+str(image_max_size/8000)+\" KB of data\")\n",
    "    if string_size > image_max_size:\n",
    "        print(\"Message is too big to be encoded in image\")\n",
    "        return False\n",
    "    else:\n",
    "        print(\"Image can be encoded with message. Proceed\")\n",
    "        return True\n",
    "    \n",
    "CheckBitSize(deathstar_img, MessageToBits(All_SW_Scripts))\n",
    "    "
   ]
  },
  {
   "cell_type": "markdown",
   "metadata": {
    "_uuid": "0d418b76f63cb29d2182725285984b8bbc42d763"
   },
   "source": [
    "Wow, even though we are only using the last 2-bits of data for our encoding, we still have over 235KB to work with in a modest color image. The ~167KB for all the Star Wars scripts checks outs since, if you add up their .txt file sizes it is pretty close at 177KB. (The only reason for the difference in size is the cleaning done earlier, removing the quotes and line numbering)"
   ]
  },
  {
   "cell_type": "markdown",
   "metadata": {
    "_uuid": "ece95730d7171bde4558646c17d99e002f13079c"
   },
   "source": [
    "# Encode the Image\n",
    "Here is how the method works.:\n",
    "1. Adds the length of our message in bits as a tag at the start for decoding later, padded with spaces to 10 characters for consitantcy\n",
    "2. Converts message into bits and makes them a string of 1s and 0s.\n",
    "3. Uses our CheckBitSize to make sure we have space.\n",
    "4. Goes through the image pixel by pixel and changes the last 2 bits in every 8 bit color channel value to our message in sequence\n",
    "5. When the last bit of the message is encoded, returns the image."
   ]
  },
  {
   "cell_type": "code",
   "execution_count": null,
   "metadata": {
    "_uuid": "b26e9a952dc94f87f0b4bbef969028944f729a73"
   },
   "outputs": [],
   "source": [
    "%%time\n",
    "def EncodeImage(img, message):\n",
    "    code = MessageToBits(message)\n",
    "    if CheckBitSize(img, code):\n",
    "        shape = img.shape\n",
    "        img = img.flatten()\n",
    "        code = list(code)\n",
    "        code_len = len(code)\n",
    "        for i,x in enumerate(img):\n",
    "            if i*2 <code_len:\n",
    "                zbits = list('{0:08b}'.format(x))[:6]+code[i*2:i*2+2]\n",
    "                img[i] = int(\"\".join(zbits), 2)\n",
    "            else:\n",
    "                return img.reshape(shape)\n",
    "        return img.reshape(shape)\n",
    "\n",
    "encoded_img = EncodeImage(deathstar_img, All_SW_Scripts)"
   ]
  },
  {
   "cell_type": "markdown",
   "metadata": {
    "_uuid": "b971c1078c81a3029b733a549db8da864fc13cd3"
   },
   "source": [
    "# Compare the Original to the Coded Images\n",
    "Take a good look. Can you spot any difference between the 2?"
   ]
  },
  {
   "cell_type": "code",
   "execution_count": null,
   "metadata": {
    "_uuid": "11d882b9afa29b5bbe6db204d572935d26f36e2c"
   },
   "outputs": [],
   "source": [
    "def CompareTwoImages(img1,img2):\n",
    "    fig=plt.figure(figsize=(20, 20))\n",
    "\n",
    "    fig.add_subplot(2, 2, 1)\n",
    "    plt.imshow(img1)\n",
    "    fig.add_subplot(2, 2, 2)\n",
    "    plt.imshow(img2)\n",
    "\n",
    "    plt.show()\n",
    "CompareTwoImages(deathstar_img, encoded_img)"
   ]
  },
  {
   "cell_type": "markdown",
   "metadata": {
    "_uuid": "811edffc2e26ab159b3fd9362e3a3fa274d484f5"
   },
   "source": [
    "They look like the same image copied twice but the one on the right has all 167KB of the Star Wars scripts encoded. Using only the last 2 bits of each pixels color channel only changes the values by such a small amount we cannot tell the difference. Lets look at a pixel in the middle to show that the values are in fact *a little bit* different."
   ]
  },
  {
   "cell_type": "code",
   "execution_count": null,
   "metadata": {
    "_uuid": "1c8db5ef565780307ed04c471292698ec18c3a7a"
   },
   "outputs": [],
   "source": [
    "print(deathstar_img[200][200])\n",
    "print(encoded_img[200][200])"
   ]
  },
  {
   "cell_type": "markdown",
   "metadata": {
    "_uuid": "dd17ae99761c6d631420adf09b36ceb23a3e0fa5"
   },
   "source": [
    "# Decode the Image\n",
    "So now we need a method to read the out the scripts. Here is how it works:\n",
    "1. Goes through the image pixel by pixel till it reads the first 10 charaters in our tag (80 bits)\n",
    "2. Check that it does have a number tag and uses that to know how many more bits to read before it has the whole message\n",
    "3. Converts the bits back into a string of characters and returns it"
   ]
  },
  {
   "cell_type": "code",
   "execution_count": null,
   "metadata": {
    "_uuid": "4883abebecdcedb313e70765bf41cf575c07759d"
   },
   "outputs": [],
   "source": [
    "%%time\n",
    "def DecodeImage(img):\n",
    "    bit_message = \"\"\n",
    "    bit_count = 0\n",
    "    bit_length = 200\n",
    "    for i,x in enumerate(img):\n",
    "        for j,y in enumerate(x):\n",
    "            for k,z in enumerate(y):\n",
    "                zbits = '{0:08b}'.format(z)\n",
    "                bit_message += zbits[-2:]\n",
    "                bit_count += 2\n",
    "                if bit_count == 80:\n",
    "                    try:\n",
    "                        decoded_tag = bitarray.bitarray(bit_message).tobytes().decode('utf-8')\n",
    "                        bit_length = int(decoded_tag)+80\n",
    "                        bit_message = \"\"\n",
    "                    except:\n",
    "                        print(\"Image does not have decode tag. Image is either not encoded or, at least, not encoded in a way this decoder recognizes\")\n",
    "                        return\n",
    "                elif bit_count >= bit_length:\n",
    "                    return bitarray.bitarray(bit_message).tobytes().decode('utf-8')\n",
    "\n",
    "decoded_message = DecodeImage(encoded_img)\n",
    "print(decoded_message[:1000])"
   ]
  },
  {
   "cell_type": "markdown",
   "metadata": {
    "_uuid": "0d12fb199247cbf731f2b50fd86edd9013028c3c",
    "collapsed": true
   },
   "source": [
    "Now that looks like an exact copy of the script we fed in! Let's double check:"
   ]
  },
  {
   "cell_type": "code",
   "execution_count": null,
   "metadata": {
    "_uuid": "4dd3065e53b92c4f2f187bad449a57f366480cc2"
   },
   "outputs": [],
   "source": [
    "print(decoded_message == All_SW_Scripts)"
   ]
  },
  {
   "cell_type": "markdown",
   "metadata": {
    "_uuid": "3976a77934cbd62f5b10281115d4c00fdd3605f6"
   },
   "source": [
    " Success! Lets save the image and see what else we can do!"
   ]
  },
  {
   "cell_type": "code",
   "execution_count": null,
   "metadata": {
    "_uuid": "afb6f3dc07b37f73e5eb399e0b9da4315fb3d63a"
   },
   "outputs": [],
   "source": [
    "skimage.io.imsave(\"Death_Star_With_Scripts.jpg\", encoded_img)"
   ]
  },
  {
   "cell_type": "markdown",
   "metadata": {
    "_uuid": "c831c5f0de3a8669ec25f59c62a1ebaa18b6fa55"
   },
   "source": [
    "# Part 2: Lets Encode an Image *Inside* Another Image\n",
    "That is a great start but what else could we encode? We don't have to just encode text, we could use any data we want. Maybe we could even encode images inside images. Keeping with the Star Wars theme, lets now encode R2D2 with the death star plans. Maybe Princess Leia decides to post a photo of her favorite droid R2D2 (that is right I said *favorite* droid. Stop your whining C3PO) with the plans hidden inside for her rebel pals. Think that the empire would not fall for that? Failing to shoot down an escape pod just because there were no life signs on board says otherwise. \n",
    "\n",
    "# Check our New Images\n",
    "Let's start with the Death Star plans image. The Death Star plans original image was in color but I changed it to grayscale to give it that nice schematic look and cut the amount of data we'll need to encode by 1/3rd ( Each pixel will only have 1 value to encode instead of 3).\n"
   ]
  },
  {
   "cell_type": "code",
   "execution_count": null,
   "metadata": {
    "_uuid": "f685231f5a49d30a14a30e4129e561995637e8c7"
   },
   "outputs": [],
   "source": [
    "plans_img = imread(\"Deathstar_blueprint.jpg\")\n",
    "\n",
    "plt.figure(figsize=(10, 10))\n",
    "plt.imshow(plans_img, cmap=\"gray\")\n",
    "\n",
    "print(\"Image is \"+str(plans_img.shape[0])+\" by \"+str(plans_img.shape[1])+\" pixels\")"
   ]
  },
  {
   "cell_type": "markdown",
   "metadata": {
    "_uuid": "226e8e0551e8411716c0765fa6f19eceace7a795"
   },
   "source": [
    "Now the R2D2 image I pulled off of Wookieepedia is huge at 2550 by 1700 pixels. That is *way* more space than we need. We could encode the full color Death Star plans a few times over.  Doing the math, a ~636 by 636 pixel color image should be just enough to encode our 550 by 550 greyscale plans image with the 2 bit encoding (or just over 400,000 color pixels). Rounding up a bit, here is a 775 by 550 pixels version."
   ]
  },
  {
   "cell_type": "code",
   "execution_count": null,
   "metadata": {
    "_uuid": "0e3088390b54042803f0bd23c0a6305f1cce3393"
   },
   "outputs": [],
   "source": [
    "r2d2_img = imread(\"R2D2.jpg\")\n",
    "\n",
    "plt.figure(figsize=(10, 10))\n",
    "plt.imshow(r2d2_img)\n",
    "\n",
    "print(\"Image is \"+str(r2d2_img.shape[0])+\" by \"+str(r2d2_img.shape[1])+\" pixels with \"+str(r2d2_img.shape[2])+\" color channels\")"
   ]
  },
  {
   "cell_type": "markdown",
   "metadata": {
    "_uuid": "6ca3f3f4c3cf1f56c5d6325af21121a2b93e519a"
   },
   "source": [
    "# Image to String of Bits\n",
    "\n",
    "Now we need a method to convert the image into a nice string of bits. We are going to expand the tag at the begining to 20 spaces and add more information like data type for our decoder."
   ]
  },
  {
   "cell_type": "code",
   "execution_count": null,
   "metadata": {
    "_uuid": "4d16376e6efcb95c875b8e0f3e73f12f469ccc4c"
   },
   "outputs": [],
   "source": [
    "def ImageToBits(img):\n",
    "    try:\n",
    "        channels = str(img.shape[2])\n",
    "    except:\n",
    "        channels = \"1\"\n",
    "    tag = \"{:<20}\".format(\"img,\"+str(img.shape[0])+\",\"+str(img.shape[1])+\",\"+channels)\n",
    "    #convert tag to bits\n",
    "    code = bitarray.bitarray()\n",
    "    code.frombytes(tag.encode('utf-8'))\n",
    "    tag = \"\".join(['1' if x == True else '0' for x in code.tolist()])\n",
    "    # combine tag bits with the images bits\n",
    "    bits_string = tag + ''.join(['{0:08b}'.format(x) for x in list(img.flatten())])\n",
    "    return bits_string\n",
    "    \n",
    "test_image_bits = ImageToBits(r2d2_img)\n",
    "print(test_image_bits[:1000])"
   ]
  },
  {
   "cell_type": "markdown",
   "metadata": {
    "_uuid": "8453b4e93754901d523e0e52d69a2fe510a5aac4"
   },
   "source": [
    "Let's also alter our MessageToBits method to include this new expanded tag."
   ]
  },
  {
   "cell_type": "code",
   "execution_count": null,
   "metadata": {
    "_uuid": "82a4cc220d1a6a2c672ebdf83acbfb022d5a194f"
   },
   "outputs": [],
   "source": [
    "def MessageToBits(message):\n",
    "    #tag message (and pad w/ spaces till 20 characters)\n",
    "    tag = \"{:<20}\".format(\"text,\"+str(len(message)*8))\n",
    "    message = tag+message\n",
    "    #convert to bits\n",
    "    code = bitarray.bitarray()\n",
    "    code.frombytes(message.encode('utf-8'))\n",
    "    code = \"\".join(['1' if x == True else '0' for x in code.tolist()])\n",
    "    return code"
   ]
  },
  {
   "cell_type": "markdown",
   "metadata": {
    "_uuid": "0c2dba47f0b93e5d8f6840791a62e02fa4342943"
   },
   "source": [
    "# String of Bits to Image\n",
    "We naturally also need a method to convert this string of bits back into an image."
   ]
  },
  {
   "cell_type": "code",
   "execution_count": null,
   "metadata": {
    "_uuid": "bd7cff21c47bb3825d6743860e762c8ceaebf80e"
   },
   "outputs": [],
   "source": [
    "def BitsToImage(bits_string):\n",
    "    try:\n",
    "        tag = bits_string[:160]\n",
    "        tag = bitarray.bitarray(tag).tobytes().decode('utf-8')\n",
    "        tag = tag.split(\",\")\n",
    "        image_bits = bits_string[160:]\n",
    "        h = int(tag[1])\n",
    "        w = int(tag[2])\n",
    "        c = int(tag[3])\n",
    "        image_bits = np.asarray([int(image_bits[i:i+8], 2) for i in range(0, len(image_bits), 8)])\n",
    "        if c == 1:\n",
    "            image_bits = image_bits.reshape([h,w])\n",
    "        else:\n",
    "            image_bits = image_bits.reshape([h,w,c])\n",
    "        return image_bits.astype(np.uint8)\n",
    "    except:\n",
    "        print('Not a string of image bits')\n",
    "    \n",
    "    \n",
    "output_test = BitsToImage(test_image_bits)\n",
    "\n",
    "plt.figure(figsize=(10, 10))\n",
    "plt.imshow(output_test)"
   ]
  },
  {
   "cell_type": "markdown",
   "metadata": {
    "_uuid": "aa6667ffaa41365ea92a50f263c3e17740df602e",
    "collapsed": true
   },
   "source": [
    "# Update the Encoder Method\n",
    "Update the encoder method to work on either strings or image inputs."
   ]
  },
  {
   "cell_type": "code",
   "execution_count": null,
   "metadata": {
    "_uuid": "bc4da09dca18540236af7dcfe4b2a348625b970e"
   },
   "outputs": [],
   "source": [
    "%%time\n",
    "def EncodeImage(img, message):\n",
    "    if type(message) is str:\n",
    "        code = MessageToBits(message)\n",
    "    else:\n",
    "        code = ImageToBits(message)\n",
    "    if CheckBitSize(img, code):\n",
    "        shape = img.shape\n",
    "        img = img.flatten()\n",
    "        code = list(code)\n",
    "        code_len = len(code)\n",
    "        for i,x in enumerate(img):\n",
    "            if i*2 <code_len:\n",
    "                zbits = list('{0:08b}'.format(x))[:6]+code[i*2:i*2+2]\n",
    "                img[i] = int(\"\".join(zbits), 2)\n",
    "            else:\n",
    "                return img.reshape(shape)\n",
    "        return img.reshape(shape)\n",
    "\n",
    "encoded_img = EncodeImage(r2d2_img, plans_img)"
   ]
  },
  {
   "cell_type": "markdown",
   "metadata": {
    "_uuid": "a090d65874007bb015548d2c2e0f7b5da62139eb"
   },
   "source": [
    "# Check the Images\n",
    "Same as last time, they are the same as last time."
   ]
  },
  {
   "cell_type": "code",
   "execution_count": null,
   "metadata": {
    "_uuid": "a9d939af782fb6644361a948ac4a0a2b21d35ba2"
   },
   "outputs": [],
   "source": [
    "CompareTwoImages(r2d2_img, encoded_img)"
   ]
  },
  {
   "cell_type": "code",
   "execution_count": null,
   "metadata": {
    "_uuid": "c844e470057cc88131672fdf268cf5e1c60edb9d"
   },
   "outputs": [],
   "source": [
    "print(r2d2_img[200][200])\n",
    "print(encoded_img[200][200])"
   ]
  },
  {
   "cell_type": "markdown",
   "metadata": {
    "_uuid": "648098477c8498b7223e5ad40e9cc6c8e332d5cd",
    "collapsed": true
   },
   "source": [
    "# Update the Decoder Method\n",
    "Now the decoder needs updating to account for our new image inside image encoding."
   ]
  },
  {
   "cell_type": "code",
   "execution_count": null,
   "metadata": {
    "_uuid": "e71ebc82789822bd3508569f06753d7c894627da"
   },
   "outputs": [],
   "source": [
    "%%time\n",
    "def DecodeImage(img):\n",
    "    bit_message = \"\"\n",
    "    bit_count = 0\n",
    "    bit_length = 200\n",
    "    grey = len(img.shape) == 2\n",
    "    for i,x in enumerate(img):\n",
    "        for j,y in enumerate(x):\n",
    "            if grey:\n",
    "                y = [y]\n",
    "            for k,z in enumerate(y):\n",
    "                zbits = '{0:08b}'.format(z)\n",
    "#                 print(zbits[-2:])\n",
    "                bit_message += zbits[-2:]\n",
    "                bit_count += 2\n",
    "                if bit_count == 160:\n",
    "                    try:\n",
    "                        decoded_tag = bitarray.bitarray(bit_message).tobytes().decode('utf-8').split(\",\")\n",
    "                        message_type = decoded_tag[0]\n",
    "                        if message_type == \"text\":  \n",
    "                            bit_length = int(decoded_tag[1])+160\n",
    "                            bit_message = \"\"\n",
    "                        else:\n",
    "                            bit_length = (int(decoded_tag[1])*int(decoded_tag[2])*int(decoded_tag[3])*8)+160\n",
    "                    except:\n",
    "                        print(\"Image does not have decode tag. Image is either not encoded or, at least, not encoded in a way this decoder recognizes\")\n",
    "                        return\n",
    "                elif bit_count >= bit_length:\n",
    "                    if message_type == \"text\":\n",
    "                        return bitarray.bitarray(bit_message).tobytes().decode('utf-8')\n",
    "                    else:\n",
    "                        return BitsToImage(bit_message)\n",
    "\n",
    "decoded_img = DecodeImage(encoded_img)"
   ]
  },
  {
   "cell_type": "markdown",
   "metadata": {
    "_uuid": "ab2e0e9b8a6a4309a0b2800bd74330e485886d65"
   },
   "source": [
    "# Show Results"
   ]
  },
  {
   "cell_type": "code",
   "execution_count": null,
   "metadata": {
    "_uuid": "90e5107d0410a732748f9d6edb9955e98137c013"
   },
   "outputs": [],
   "source": [
    "plt.figure(figsize=(10, 10))\n",
    "plt.imshow(decoded_img, cmap=\"gray\")"
   ]
  },
  {
   "cell_type": "markdown",
   "metadata": {
    "_uuid": "388c6c733b63ca6ba853e619f5f85f08684b386d"
   },
   "source": [
    "Success! We have successfully deconstructed an image, encoded it in another, and decoded it back again. "
   ]
  },
  {
   "cell_type": "markdown",
   "metadata": {
    "_uuid": "aed99aae12e05587f2604c5b0d63fbc728d65e3b"
   },
   "source": [
    "# Part 3: Let's Make a Nesting Doll of Star Wars Images\n",
    "How far can we go with this? Let's try encoding encoded images in encoded images. We are going to make:\n",
    "1.An HD wallpaper image of the Death Star\n",
    "1. Encoded with an image of an X-wing\n",
    "2. Encoded with an R2D2 image\n",
    "3. That is ecoded with plans for the Death Star\n",
    "4. That is encoded with the script for A New Hope\n",
    "\n",
    "Using are last 2 bit encoding, each step has 1/4th the size of the last but we can still make this work.\n",
    "# Yet More Images\n",
    "2 final images for our notebook. These are much larger than the previous and provides us with tons of pixels to work with."
   ]
  },
  {
   "cell_type": "code",
   "execution_count": null,
   "metadata": {
    "_uuid": "f5954736bd2099ebc6c2f71bd2a255d537f87285"
   },
   "outputs": [],
   "source": [
    "New_Hope_Script = TextToString(\"SW_EpisodeIV.txt\")"
   ]
  },
  {
   "cell_type": "code",
   "execution_count": null,
   "metadata": {
    "_uuid": "0a6b58a18b6cd9163b70c84ad138bdf51bd8f1c2"
   },
   "outputs": [],
   "source": [
    "death_star_hd_img = imread(\"death_star_HD.jpg\")\n",
    "\n",
    "plt.figure(figsize=(10, 10))\n",
    "plt.imshow(death_star_hd_img)\n",
    "\n",
    "print(\"Image is \"+str(death_star_hd_img.shape[0])+\" by \"+str(death_star_hd_img.shape[1])+\" pixels with \"+str(death_star_hd_img.shape[2])+\" color channels\")"
   ]
  },
  {
   "cell_type": "code",
   "execution_count": null,
   "metadata": {
    "_uuid": "82c55e43c23d4fef2b1bb488794f95a95e6bf72f"
   },
   "outputs": [],
   "source": [
    "xwing_img = imread(\"x-wing.jpg\")\n",
    "\n",
    "plt.figure(figsize=(10, 10))\n",
    "plt.imshow(xwing_img)\n",
    "\n",
    "print(\"Image is \"+str(xwing_img.shape[0])+\" by \"+str(xwing_img.shape[1])+\" pixels with \"+str(xwing_img.shape[2])+\" color channels\")"
   ]
  },
  {
   "cell_type": "markdown",
   "metadata": {
    "_uuid": "54c28f976065228224e4062461c6b021f9e64d33"
   },
   "source": [
    "# Check for Space\n",
    "In part 2, I checked if the images would fit by calculator and photoshop. No reason to do, that outside of math practice, when we have these nice methods already.\n"
   ]
  },
  {
   "cell_type": "code",
   "execution_count": null,
   "metadata": {
    "_uuid": "d38079c41332002d91732a72ff8b4c38a086a284"
   },
   "outputs": [],
   "source": [
    "CheckBitSize(xwing_img, ImageToBits(r2d2_img))"
   ]
  },
  {
   "cell_type": "code",
   "execution_count": null,
   "metadata": {
    "_uuid": "b0d4e406fc0b256cb8d6178c7d9db90b614d3beb"
   },
   "outputs": [],
   "source": [
    "CheckBitSize(death_star_hd_img, ImageToBits(xwing_img))"
   ]
  },
  {
   "cell_type": "markdown",
   "metadata": {
    "_uuid": "4ebf889bf068175d1e70acd2d9c292624691a1d0"
   },
   "source": [
    "# Rescale the X-Wing\n",
    "Looks like the X-wing will not *quite* fit in our wallpaper. Unlike last time, I will adjust the image within this notebook."
   ]
  },
  {
   "cell_type": "code",
   "execution_count": null,
   "metadata": {
    "_uuid": "1dac39692db2f7650a1a6bf03edb61934e93a85c"
   },
   "outputs": [],
   "source": [
    "r_xwing_img = (rescale(xwing_img, 0.95) * 255).astype(np.uint8)\n",
    "\n",
    "plt.figure(figsize=(10, 10))\n",
    "plt.imshow(r_xwing_img)\n",
    "\n",
    "print(\"Image is \"+str(r_xwing_img.shape[0])+\" by \"+str(r_xwing_img.shape[1])+\" pixels with \"+str(r_xwing_img.shape[2])+\" color channels\")"
   ]
  },
  {
   "cell_type": "code",
   "execution_count": null,
   "metadata": {
    "_uuid": "e8b72705619f531a81e4485e9b2dbcad040065d6"
   },
   "outputs": [],
   "source": [
    "CheckBitSize(death_star_hd_img, ImageToBits(r_xwing_img))"
   ]
  },
  {
   "cell_type": "markdown",
   "metadata": {
    "_uuid": "4252ca6c43ed086c12257585925200caf779c903"
   },
   "source": [
    "Now lets double check that the whole series will fit before moving on."
   ]
  },
  {
   "cell_type": "code",
   "execution_count": null,
   "metadata": {
    "_uuid": "e4435790e7cafbca7bae7d116b0020c75921e8f4"
   },
   "outputs": [],
   "source": [
    "CheckBitSize(death_star_hd_img, ImageToBits(r_xwing_img))\n",
    "CheckBitSize(r_xwing_img, ImageToBits(r2d2_img))\n",
    "CheckBitSize(r2d2_img, ImageToBits(plans_img))\n",
    "CheckBitSize(plans_img, MessageToBits(New_Hope_Script))"
   ]
  },
  {
   "cell_type": "markdown",
   "metadata": {
    "_uuid": "ebf7f16024e5d5a1f98de8c062bf4db97974f951"
   },
   "source": [
    "# Encode the Series"
   ]
  },
  {
   "cell_type": "code",
   "execution_count": null,
   "metadata": {
    "_uuid": "0fc80507b87deea0f3da18c189785ac6b8687e52"
   },
   "outputs": [],
   "source": [
    "%%time\n",
    "nested_img = EncodeImage(plans_img, New_Hope_Script)\n",
    "print(\"1st encode done\")\n",
    "nested_img = EncodeImage(r2d2_img, nested_img)\n",
    "print(\"2nd encode done\")\n",
    "nested_img = EncodeImage(r_xwing_img, nested_img)\n",
    "print(\"3rd encode done\")\n",
    "nested_img = EncodeImage(death_star_hd_img, nested_img)\n",
    "print(\"4th encode done\")"
   ]
  },
  {
   "cell_type": "code",
   "execution_count": null,
   "metadata": {
    "_uuid": "45c4636504c33a487b283c6230c96af82e8277fd"
   },
   "outputs": [],
   "source": [
    "CompareTwoImages(death_star_hd_img, nested_img)"
   ]
  },
  {
   "cell_type": "markdown",
   "metadata": {
    "_uuid": "2a9468937aeb5e0ea7e84f5ec9bbe2f902e787f6"
   },
   "source": [
    "Looking good so far, now onto the finale.\n",
    "\n",
    "# Decode the Series"
   ]
  },
  {
   "cell_type": "code",
   "execution_count": null,
   "metadata": {
    "_uuid": "19c7f1539481dbeba759a1e1fec643348bfb1e75"
   },
   "outputs": [],
   "source": [
    "%%time\n",
    "decoded_xwing = DecodeImage(nested_img)\n",
    "print(\"Decoded Death Star\")\n",
    "CompareTwoImages(r_xwing_img, decoded_xwing)\n",
    "decoded_r2d2 = DecodeImage(decoded_xwing)\n",
    "print(\"Decoded X-Wing\")\n",
    "CompareTwoImages(r2d2_img, decoded_r2d2)\n",
    "decoded_plans = DecodeImage(decoded_r2d2)\n",
    "print(\"Decoded R2D2\")\n",
    "CompareTwoImages(plans_img, decoded_plans)\n",
    "decoded_new_hope = DecodeImage(decoded_plans)\n",
    "print(\"Decoded Death Star Plans\")\n",
    "print(decoded_new_hope[:1000])"
   ]
  },
  {
   "cell_type": "markdown",
   "metadata": {
    "_uuid": "266dcad08d5262c39bee6ddeaa51318dcf9dc092"
   },
   "source": [
    "Fantastic, we have encoded a series of images inside other images. Just save them and we are done."
   ]
  },
  {
   "cell_type": "markdown",
   "metadata": {
    "_uuid": "9b130d666e2dabb09ce2786f2ec92c65f950b2b0"
   },
   "source": [
    "# Save Final Images"
   ]
  },
  {
   "cell_type": "code",
   "execution_count": null,
   "metadata": {
    "_uuid": "e1823cea63a9008999f3854cf7240e1fe9e24224"
   },
   "outputs": [],
   "source": [
    "skimage.io.imsave(\"Encoded_Death_Star_HD.jpg\", nested_img)\n",
    "skimage.io.imsave(\"Encoded_X-Wing.jpg\", decoded_xwing)\n",
    "skimage.io.imsave(\"Encoded_R2D2.jpg\", decoded_r2d2)\n",
    "skimage.io.imsave(\"Encoded_Death_Star_Plans.jpg\", decoded_plans)"
   ]
  },
  {
   "cell_type": "markdown",
   "metadata": {
    "_uuid": "833590d6b76cda167955407e8d07f6a80e924283",
    "collapsed": true
   },
   "source": [
    "# Wrapping up\n",
    "This was a fun and interesting project to engage in. I hope it introduces people to Steganography techniques. This notebook should function like the invisible ink toy equivalent to Steganography. I encourage people to play around with image Steganography and see what they can do. Naturally, if we were really trying to hide messages in images, we would at least add layers of encryption to our messages and not use public images. Regardless, Image Steganography is most often used for adding hidden watermarks to images and videos for copyright purposes. Let's leave with one last quick method to scramble the last 2 bits of an image to delete any least significant bit encoding from an image.\n"
   ]
  },
  {
   "cell_type": "code",
   "execution_count": null,
   "metadata": {
    "_uuid": "b412acc06a0fb45714b9daee3e452a842aa42984"
   },
   "outputs": [],
   "source": [
    "%%time\n",
    "import random\n",
    "def ScrambleEncodedImage(img):\n",
    "    shape = img.shape\n",
    "    img = img.flatten()\n",
    "    for i,x in enumerate(img):\n",
    "        r = [str(random.randint(0,1)),str(random.randint(0,1))]\n",
    "        zbits = list('{0:08b}'.format(x))[:6]+r\n",
    "        img[i] = int(\"\".join(zbits), 2)\n",
    "    return img.reshape(shape)\n",
    "\n",
    "scrambled_img = ScrambleEncodedImage(decoded_r2d2)\n",
    "CompareTwoImages(decoded_r2d2, scrambled_img)"
   ]
  },
  {
   "cell_type": "markdown",
   "metadata": {
    "_uuid": "aac537b4b3d958d8ecc7ba3220e5ca732b1c2880"
   },
   "source": [
    "# Acknowledgements\n",
    "\n",
    "I was inspired to make this notebook based on this video by Computerphile on Steganography: https://www.youtube.com/watch?v=TWEXCYQKyDc\n",
    "\n",
    "R2D2, X-Wing, and Death Star Plans come from Wookieepedia\n",
    "\n",
    "Death Star HD Wallpaper from hipwallpaper.com\n",
    "\n",
    "And, of course, the Star Wars Movie Scripts Kaggle dataset posted by Xavier\n"
   ]
  }
 ],
 "metadata": {
  "kernelspec": {
   "display_name": "Python 3",
   "language": "python",
   "name": "python3"
  },
  "language_info": {
   "codemirror_mode": {
    "name": "ipython",
    "version": 3
   },
   "file_extension": ".py",
   "mimetype": "text/x-python",
   "name": "python",
   "nbconvert_exporter": "python",
   "pygments_lexer": "ipython3",
   "version": "3.6.4"
  }
 },
 "nbformat": 4,
 "nbformat_minor": 1
}
